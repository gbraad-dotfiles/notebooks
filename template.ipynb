{
 "cells": [
  {
   "cell_type": "markdown",
   "id": "0dd58fd1",
   "metadata": {},
   "source": [
    "# Template"
   ]
  },
  {
   "cell_type": "code",
   "execution_count": null,
   "id": "939830da-4afd-4141-953b-9a0c49f9df9e",
   "metadata": {},
   "outputs": [],
   "source": [
    "import sys, os\n",
    "sys.path.append(os.path.expanduser(\"~/.dotfiles/ipython/.ipython/extensions\"))\n",
    "ip = get_ipython()\n",
    "ip.extension_manager.load_extension(\"dotfiles\")"
   ]
  },
  {
   "cell_type": "markdown",
   "id": "bae22dac",
   "metadata": {},
   "source": [
    "### Test function"
   ]
  },
  {
   "cell_type": "code",
   "execution_count": null,
   "id": "a7aa3577-b198-425a-8239-2c45a4051b48",
   "metadata": {},
   "outputs": [],
   "source": [
    "%%dotscript\n",
    "country"
   ]
  }
 ],
 "metadata": {
  "jupytext": {
   "formats": "ipynb,md"
  },
  "kernelspec": {
   "display_name": "Python 3 (ipykernel)",
   "language": "python",
   "name": "python3"
  },
  "language_info": {
   "codemirror_mode": {
    "name": "ipython",
    "version": 3
   },
   "file_extension": ".py",
   "mimetype": "text/x-python",
   "name": "python",
   "nbconvert_exporter": "python",
   "pygments_lexer": "ipython3",
   "version": "3.12.3"
  }
 },
 "nbformat": 4,
 "nbformat_minor": 5
}
